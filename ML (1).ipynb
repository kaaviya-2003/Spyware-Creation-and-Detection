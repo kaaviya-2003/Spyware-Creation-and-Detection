{
 "cells": [
  {
   "cell_type": "code",
   "execution_count": 1,
   "metadata": {
    "id": "yLlKkpgxT-_0"
   },
   "outputs": [],
   "source": [
    "import pandas as pd\n",
    "import numpy as np\n",
    "import matplotlib.pyplot as plt\n",
    "import matplotlib.pyplot as plt\n",
    "import sklearn.ensemble as ek\n",
    "from sklearn.feature_selection import SelectFromModel\n",
    "from sklearn.model_selection import train_test_split\n",
    "from sklearn.tree import plot_tree\n",
    "from sklearn.metrics import confusion_matrix, plot_confusion_matrix\n",
    "import warnings\n",
    "warnings.filterwarnings(\"ignore\")"
   ]
  },
  {
   "cell_type": "markdown",
   "metadata": {},
   "source": [
    "### Read Dataset"
   ]
  },
  {
   "cell_type": "code",
   "execution_count": 2,
   "metadata": {
    "id": "8_TGfMElUE-p"
   },
   "outputs": [
    {
     "data": {
      "text/html": [
       "<div>\n",
       "<style scoped>\n",
       "    .dataframe tbody tr th:only-of-type {\n",
       "        vertical-align: middle;\n",
       "    }\n",
       "\n",
       "    .dataframe tbody tr th {\n",
       "        vertical-align: top;\n",
       "    }\n",
       "\n",
       "    .dataframe thead th {\n",
       "        text-align: right;\n",
       "    }\n",
       "</style>\n",
       "<table border=\"1\" class=\"dataframe\">\n",
       "  <thead>\n",
       "    <tr style=\"text-align: right;\">\n",
       "      <th></th>\n",
       "      <th>Name</th>\n",
       "      <th>md5</th>\n",
       "      <th>Machine</th>\n",
       "      <th>SizeOfOptionalHeader</th>\n",
       "      <th>Characteristics</th>\n",
       "      <th>MajorLinkerVersion</th>\n",
       "      <th>MinorLinkerVersion</th>\n",
       "      <th>SizeOfCode</th>\n",
       "      <th>SizeOfInitializedData</th>\n",
       "      <th>SizeOfUninitializedData</th>\n",
       "      <th>...</th>\n",
       "      <th>ResourcesNb</th>\n",
       "      <th>ResourcesMeanEntropy</th>\n",
       "      <th>ResourcesMinEntropy</th>\n",
       "      <th>ResourcesMaxEntropy</th>\n",
       "      <th>ResourcesMeanSize</th>\n",
       "      <th>ResourcesMinSize</th>\n",
       "      <th>ResourcesMaxSize</th>\n",
       "      <th>LoadConfigurationSize</th>\n",
       "      <th>VersionInformationSize</th>\n",
       "      <th>legitimate</th>\n",
       "    </tr>\n",
       "  </thead>\n",
       "  <tbody>\n",
       "    <tr>\n",
       "      <th>0</th>\n",
       "      <td>memtest.exe</td>\n",
       "      <td>631ea355665f28d4707448e442fbf5b8</td>\n",
       "      <td>332</td>\n",
       "      <td>224</td>\n",
       "      <td>258</td>\n",
       "      <td>9</td>\n",
       "      <td>0</td>\n",
       "      <td>361984</td>\n",
       "      <td>115712</td>\n",
       "      <td>0</td>\n",
       "      <td>...</td>\n",
       "      <td>4</td>\n",
       "      <td>3.262823</td>\n",
       "      <td>2.568844</td>\n",
       "      <td>3.537939</td>\n",
       "      <td>8797.000000</td>\n",
       "      <td>216</td>\n",
       "      <td>18032</td>\n",
       "      <td>0</td>\n",
       "      <td>16</td>\n",
       "      <td>1</td>\n",
       "    </tr>\n",
       "    <tr>\n",
       "      <th>1</th>\n",
       "      <td>ose.exe</td>\n",
       "      <td>9d10f99a6712e28f8acd5641e3a7ea6b</td>\n",
       "      <td>332</td>\n",
       "      <td>224</td>\n",
       "      <td>3330</td>\n",
       "      <td>9</td>\n",
       "      <td>0</td>\n",
       "      <td>130560</td>\n",
       "      <td>19968</td>\n",
       "      <td>0</td>\n",
       "      <td>...</td>\n",
       "      <td>2</td>\n",
       "      <td>4.250461</td>\n",
       "      <td>3.420744</td>\n",
       "      <td>5.080177</td>\n",
       "      <td>837.000000</td>\n",
       "      <td>518</td>\n",
       "      <td>1156</td>\n",
       "      <td>72</td>\n",
       "      <td>18</td>\n",
       "      <td>1</td>\n",
       "    </tr>\n",
       "    <tr>\n",
       "      <th>2</th>\n",
       "      <td>setup.exe</td>\n",
       "      <td>4d92f518527353c0db88a70fddcfd390</td>\n",
       "      <td>332</td>\n",
       "      <td>224</td>\n",
       "      <td>3330</td>\n",
       "      <td>9</td>\n",
       "      <td>0</td>\n",
       "      <td>517120</td>\n",
       "      <td>621568</td>\n",
       "      <td>0</td>\n",
       "      <td>...</td>\n",
       "      <td>11</td>\n",
       "      <td>4.426324</td>\n",
       "      <td>2.846449</td>\n",
       "      <td>5.271813</td>\n",
       "      <td>31102.272727</td>\n",
       "      <td>104</td>\n",
       "      <td>270376</td>\n",
       "      <td>72</td>\n",
       "      <td>18</td>\n",
       "      <td>1</td>\n",
       "    </tr>\n",
       "    <tr>\n",
       "      <th>3</th>\n",
       "      <td>DW20.EXE</td>\n",
       "      <td>a41e524f8d45f0074fd07805ff0c9b12</td>\n",
       "      <td>332</td>\n",
       "      <td>224</td>\n",
       "      <td>258</td>\n",
       "      <td>9</td>\n",
       "      <td>0</td>\n",
       "      <td>585728</td>\n",
       "      <td>369152</td>\n",
       "      <td>0</td>\n",
       "      <td>...</td>\n",
       "      <td>10</td>\n",
       "      <td>4.364291</td>\n",
       "      <td>2.669314</td>\n",
       "      <td>6.400720</td>\n",
       "      <td>1457.000000</td>\n",
       "      <td>90</td>\n",
       "      <td>4264</td>\n",
       "      <td>72</td>\n",
       "      <td>18</td>\n",
       "      <td>1</td>\n",
       "    </tr>\n",
       "    <tr>\n",
       "      <th>4</th>\n",
       "      <td>dwtrig20.exe</td>\n",
       "      <td>c87e561258f2f8650cef999bf643a731</td>\n",
       "      <td>332</td>\n",
       "      <td>224</td>\n",
       "      <td>258</td>\n",
       "      <td>9</td>\n",
       "      <td>0</td>\n",
       "      <td>294912</td>\n",
       "      <td>247296</td>\n",
       "      <td>0</td>\n",
       "      <td>...</td>\n",
       "      <td>2</td>\n",
       "      <td>4.306100</td>\n",
       "      <td>3.421598</td>\n",
       "      <td>5.190603</td>\n",
       "      <td>1074.500000</td>\n",
       "      <td>849</td>\n",
       "      <td>1300</td>\n",
       "      <td>72</td>\n",
       "      <td>18</td>\n",
       "      <td>1</td>\n",
       "    </tr>\n",
       "  </tbody>\n",
       "</table>\n",
       "<p>5 rows × 57 columns</p>\n",
       "</div>"
      ],
      "text/plain": [
       "           Name                               md5  Machine  \\\n",
       "0   memtest.exe  631ea355665f28d4707448e442fbf5b8      332   \n",
       "1       ose.exe  9d10f99a6712e28f8acd5641e3a7ea6b      332   \n",
       "2     setup.exe  4d92f518527353c0db88a70fddcfd390      332   \n",
       "3      DW20.EXE  a41e524f8d45f0074fd07805ff0c9b12      332   \n",
       "4  dwtrig20.exe  c87e561258f2f8650cef999bf643a731      332   \n",
       "\n",
       "   SizeOfOptionalHeader  Characteristics  MajorLinkerVersion  \\\n",
       "0                   224              258                   9   \n",
       "1                   224             3330                   9   \n",
       "2                   224             3330                   9   \n",
       "3                   224              258                   9   \n",
       "4                   224              258                   9   \n",
       "\n",
       "   MinorLinkerVersion  SizeOfCode  SizeOfInitializedData  \\\n",
       "0                   0      361984                 115712   \n",
       "1                   0      130560                  19968   \n",
       "2                   0      517120                 621568   \n",
       "3                   0      585728                 369152   \n",
       "4                   0      294912                 247296   \n",
       "\n",
       "   SizeOfUninitializedData  ...  ResourcesNb  ResourcesMeanEntropy  \\\n",
       "0                        0  ...            4              3.262823   \n",
       "1                        0  ...            2              4.250461   \n",
       "2                        0  ...           11              4.426324   \n",
       "3                        0  ...           10              4.364291   \n",
       "4                        0  ...            2              4.306100   \n",
       "\n",
       "   ResourcesMinEntropy  ResourcesMaxEntropy  ResourcesMeanSize  \\\n",
       "0             2.568844             3.537939        8797.000000   \n",
       "1             3.420744             5.080177         837.000000   \n",
       "2             2.846449             5.271813       31102.272727   \n",
       "3             2.669314             6.400720        1457.000000   \n",
       "4             3.421598             5.190603        1074.500000   \n",
       "\n",
       "   ResourcesMinSize  ResourcesMaxSize  LoadConfigurationSize  \\\n",
       "0               216             18032                      0   \n",
       "1               518              1156                     72   \n",
       "2               104            270376                     72   \n",
       "3                90              4264                     72   \n",
       "4               849              1300                     72   \n",
       "\n",
       "   VersionInformationSize  legitimate  \n",
       "0                      16           1  \n",
       "1                      18           1  \n",
       "2                      18           1  \n",
       "3                      18           1  \n",
       "4                      18           1  \n",
       "\n",
       "[5 rows x 57 columns]"
      ]
     },
     "execution_count": 2,
     "metadata": {},
     "output_type": "execute_result"
    }
   ],
   "source": [
    "data = pd.read_csv('data.csv', sep='|')\n",
    "data.head()"
   ]
  },
  {
   "cell_type": "code",
   "execution_count": 18,
   "metadata": {},
   "outputs": [
    {
     "data": {
      "image/png": "[encoded data removed]",
      "text/plain": [
       "<Figure size 500x500 with 1 Axes>"
      ]
     },
     "metadata": {},
     "output_type": "display_data"
    }
   ],
   "source": [
    "non_malicious=0\n",
    "malicious=0\n",
    "\n",
    "for i in data[\"legitimate\"].values:\n",
    "    if(i==0):\n",
    "        non_malicious=non_malicious+1\n",
    "    if(i==1):\n",
    "        malicious=malicious+1\n",
    "\n",
    "data1 = {'non_malicious':non_malicious,'malicious':malicious}\n",
    "column = list(data1.keys())\n",
    "rows = list(data1.values())\n",
    "\n",
    "plt.style.use('dark_background')\n",
    "fig = plt.figure(figsize = (5,5))\n",
    "plt.bar(column, rows, color=['green', 'red'])\n",
    " \n",
    "plt.xlabel(\"File Severity\",fontsize=15)\n",
    "plt.ylabel(\"Number of Files\",fontsize=15)\n",
    "plt.title(\"malicious Dataset\",fontsize=15)\n",
    "plt.show()"
   ]
  },
  {
   "cell_type": "code",
   "execution_count": 4,
   "metadata": {
    "colab": {
     "base_uri": "https://localhost:8080/",
     "height": 85
    },
    "id": "6VcQrdWCUi3Q",
    "outputId": "88f18a7b-cf2f-41dc-91af-9eead54feb97"
   },
   "outputs": [],
   "source": [
    "X = data.drop(['Name','md5','legitimate'],axis=1).values\n",
    "y = data['legitimate'].values"
   ]
  },
  {
   "cell_type": "markdown",
   "metadata": {
    "id": "_K2Vr8xUVRaQ"
   },
   "source": [
    "### Building and Training Model"
   ]
  },
  {
   "cell_type": "code",
   "execution_count": 5,
   "metadata": {
    "id": "hGQ60iSnW_34"
   },
   "outputs": [],
   "source": [
    "X_train, X_test, y_train, y_test = train_test_split(X, y ,test_size=0.3, shuffle=True)"
   ]
  },
  {
   "cell_type": "markdown",
   "metadata": {},
   "source": [
    "### Neural Network"
   ]
  },
  {
   "cell_type": "code",
   "execution_count": 6,
   "metadata": {},
   "outputs": [],
   "source": [
    "from keras.models import Sequential\n",
    "#from keras.wrappers.scikit learn import KerasClassifier \n",
    "def trainModel (model, epochs, optimizer):\n",
    "  batch_size=128 \n",
    "  #callback myCallback() \n",
    "  model.compile(optimizer=optimizer,\n",
    "                loss='sparse_categorical_crossentropy',\n",
    "                metrics='accuracy') \n",
    "  return model.fit(X_train, y_train, validation_data=(X_test, y_test), epochs=epochs, batch_size=batch_size)\n",
    "\n",
    "def plotValidate(history):\n",
    "  print(\"Validation Accuracy\",max(history.history[\"val_accuracy\"]))\n",
    "  plt.style.use('default')\n",
    "  pd.DataFrame(history.history).plot(figsize=(5,5))\n",
    "  plt.show()"
   ]
  },
  {
   "cell_type": "code",
   "execution_count": 7,
   "metadata": {},
   "outputs": [
    {
     "name": "stdout",
     "output_type": "stream",
     "text": [
      "Model: \"sequential\"\n",
      "_________________________________________________________________\n",
      " Layer (type)                Output Shape              Param #   \n",
      "=================================================================\n",
      " dense (Dense)               (None, 512)               28160     \n",
      "                                                                 \n",
      " dropout (Dropout)           (None, 512)               0         \n",
      "                                                                 \n",
      " dense_1 (Dense)             (None, 256)               131328    \n",
      "                                                                 \n",
      " dropout_1 (Dropout)         (None, 256)               0         \n",
      "                                                                 \n",
      " dense_2 (Dense)             (None, 128)               32896     \n",
      "                                                                 \n",
      " dropout_2 (Dropout)         (None, 128)               0         \n",
      "                                                                 \n",
      " dense_3 (Dense)             (None, 64)                8256      \n",
      "                                                                 \n",
      " dropout_3 (Dropout)         (None, 64)                0         \n",
      "                                                                 \n",
      " dense_4 (Dense)             (None, 10)                650       \n",
      "                                                                 \n",
      "=================================================================\n",
      "Total params: 201,290\n",
      "Trainable params: 201,290\n",
      "Non-trainable params: 0\n",
      "_________________________________________________________________\n",
      "None\n",
      "Epoch 1/100\n",
      "755/755 [==============================] - 11s 11ms/step - loss: 138997584.0000 - accuracy: 0.8969 - val_loss: 11571205.0000 - val_accuracy: 0.9490\n",
      "Epoch 2/100\n",
      "755/755 [==============================] - 7s 9ms/step - loss: 252117600.0000 - accuracy: 0.8811 - val_loss: 49046708.0000 - val_accuracy: 0.9478\n",
      "Epoch 3/100\n",
      "755/755 [==============================] - 7s 9ms/step - loss: 273518432.0000 - accuracy: 0.8896 - val_loss: 6223541.0000 - val_accuracy: 0.9522\n",
      "Epoch 4/100\n",
      "755/755 [==============================] - 7s 10ms/step - loss: 194202960.0000 - accuracy: 0.9019 - val_loss: 31146982.0000 - val_accuracy: 0.9576\n",
      "Epoch 5/100\n",
      "755/755 [==============================] - 7s 10ms/step - loss: 232237040.0000 - accuracy: 0.8899 - val_loss: 20983058.0000 - val_accuracy: 0.9404\n",
      "Epoch 6/100\n",
      "755/755 [==============================] - 6s 8ms/step - loss: 86377856.0000 - accuracy: 0.8687 - val_loss: 5867090.5000 - val_accuracy: 0.9613\n",
      "Epoch 7/100\n",
      "755/755 [==============================] - 7s 9ms/step - loss: 55310728.0000 - accuracy: 0.7878 - val_loss: 11159997.0000 - val_accuracy: 0.9560\n",
      "Epoch 8/100\n",
      "755/755 [==============================] - 5s 7ms/step - loss: 14465835.0000 - accuracy: 0.7561 - val_loss: 1584500.2500 - val_accuracy: 0.9272\n",
      "Epoch 9/100\n",
      "755/755 [==============================] - 6s 7ms/step - loss: 26389046.0000 - accuracy: 0.7425 - val_loss: 22342.6953 - val_accuracy: 0.7034\n",
      "Epoch 10/100\n",
      "755/755 [==============================] - 5s 7ms/step - loss: 15500422.0000 - accuracy: 0.7358 - val_loss: 6509.4536 - val_accuracy: 0.6996\n",
      "Epoch 11/100\n",
      "755/755 [==============================] - 5s 7ms/step - loss: 54424804.0000 - accuracy: 0.7269 - val_loss: 7252.7046 - val_accuracy: 0.6996\n",
      "Epoch 12/100\n",
      "755/755 [==============================] - 5s 7ms/step - loss: 12342180.0000 - accuracy: 0.7898 - val_loss: 28237.6992 - val_accuracy: 0.6996\n",
      "Epoch 13/100\n",
      "755/755 [==============================] - 5s 7ms/step - loss: 283225.5000 - accuracy: 0.7266 - val_loss: 5914.4033 - val_accuracy: 0.6996\n",
      "Epoch 14/100\n",
      "755/755 [==============================] - 5s 7ms/step - loss: 342046.7812 - accuracy: 0.7126 - val_loss: 0.6162 - val_accuracy: 0.6996\n",
      "Epoch 15/100\n",
      "755/755 [==============================] - 5s 7ms/step - loss: 74822.9062 - accuracy: 0.7051 - val_loss: 0.6149 - val_accuracy: 0.6996\n",
      "Epoch 16/100\n",
      "755/755 [==============================] - 5s 7ms/step - loss: 106671.3906 - accuracy: 0.7042 - val_loss: 0.6140 - val_accuracy: 0.6996\n",
      "Epoch 17/100\n",
      "755/755 [==============================] - 5s 7ms/step - loss: 42240.1211 - accuracy: 0.7045 - val_loss: 0.6134 - val_accuracy: 0.6996\n",
      "Epoch 18/100\n",
      "755/755 [==============================] - 5s 7ms/step - loss: 16929.6719 - accuracy: 0.7041 - val_loss: 0.6129 - val_accuracy: 0.6996\n",
      "Epoch 19/100\n",
      "755/755 [==============================] - 5s 7ms/step - loss: 1845.2744 - accuracy: 0.7028 - val_loss: 0.6125 - val_accuracy: 0.6996\n",
      "Epoch 20/100\n",
      "755/755 [==============================] - 5s 7ms/step - loss: 6565.9092 - accuracy: 0.7023 - val_loss: 0.6122 - val_accuracy: 0.6996\n",
      "Epoch 21/100\n",
      "755/755 [==============================] - 5s 7ms/step - loss: 30447.7754 - accuracy: 0.7022 - val_loss: 0.6120 - val_accuracy: 0.6996\n",
      "Epoch 22/100\n",
      "755/755 [==============================] - 5s 7ms/step - loss: 36923.0391 - accuracy: 0.7016 - val_loss: 0.6118 - val_accuracy: 0.6996\n",
      "Epoch 23/100\n",
      "755/755 [==============================] - 5s 7ms/step - loss: 1811.6798 - accuracy: 0.7016 - val_loss: 0.6117 - val_accuracy: 0.6996\n",
      "Epoch 24/100\n",
      "755/755 [==============================] - 5s 7ms/step - loss: 2004.4580 - accuracy: 0.7013 - val_loss: 0.6116 - val_accuracy: 0.6996\n",
      "Epoch 25/100\n",
      "755/755 [==============================] - 5s 7ms/step - loss: 543.4678 - accuracy: 0.7015 - val_loss: 0.6115 - val_accuracy: 0.6996\n",
      "Epoch 26/100\n",
      "755/755 [==============================] - 5s 7ms/step - loss: 35690.3203 - accuracy: 0.7013 - val_loss: 0.6114 - val_accuracy: 0.6996\n",
      "Epoch 27/100\n",
      "755/755 [==============================] - 5s 7ms/step - loss: 1194.6719 - accuracy: 0.7012 - val_loss: 0.6114 - val_accuracy: 0.6996\n",
      "Epoch 28/100\n",
      "755/755 [==============================] - 5s 7ms/step - loss: 93.2071 - accuracy: 0.7013 - val_loss: 0.6114 - val_accuracy: 0.6996\n",
      "Epoch 29/100\n",
      "755/755 [==============================] - 5s 7ms/step - loss: 58.6785 - accuracy: 0.7013 - val_loss: 0.6113 - val_accuracy: 0.6996\n",
      "Epoch 30/100\n",
      "755/755 [==============================] - 5s 7ms/step - loss: 162.1234 - accuracy: 0.7013 - val_loss: 0.6113 - val_accuracy: 0.6996\n",
      "Epoch 31/100\n",
      "755/755 [==============================] - 5s 7ms/step - loss: 186.9975 - accuracy: 0.7013 - val_loss: 0.6114 - val_accuracy: 0.6996\n",
      "Epoch 32/100\n",
      "755/755 [==============================] - 5s 7ms/step - loss: 133.7099 - accuracy: 0.7012 - val_loss: 0.6113 - val_accuracy: 0.6996\n",
      "Epoch 33/100\n",
      "755/755 [==============================] - 5s 7ms/step - loss: 59.7301 - accuracy: 0.7012 - val_loss: 0.6112 - val_accuracy: 0.6996\n",
      "Epoch 34/100\n",
      "755/755 [==============================] - 5s 7ms/step - loss: 68.1711 - accuracy: 0.7011 - val_loss: 0.6112 - val_accuracy: 0.6996\n",
      "Epoch 35/100\n",
      "755/755 [==============================] - 5s 7ms/step - loss: 0.6099 - accuracy: 0.7012 - val_loss: 0.6112 - val_accuracy: 0.6996\n",
      "Epoch 36/100\n",
      "755/755 [==============================] - 5s 7ms/step - loss: 14.1148 - accuracy: 0.7011 - val_loss: 0.6112 - val_accuracy: 0.6996\n",
      "Epoch 37/100\n",
      "755/755 [==============================] - 5s 7ms/step - loss: 0.6099 - accuracy: 0.7012 - val_loss: 0.6112 - val_accuracy: 0.6996\n",
      "Epoch 38/100\n",
      "755/755 [==============================] - 5s 7ms/step - loss: 1.0204 - accuracy: 0.7012 - val_loss: 0.6112 - val_accuracy: 0.6996\n",
      "Epoch 39/100\n",
      "755/755 [==============================] - 5s 7ms/step - loss: 779.7120 - accuracy: 0.7012 - val_loss: 0.6112 - val_accuracy: 0.6996\n",
      "Epoch 40/100\n",
      "755/755 [==============================] - 5s 7ms/step - loss: 0.6100 - accuracy: 0.7011 - val_loss: 0.6112 - val_accuracy: 0.6996\n",
      "Epoch 41/100\n",
      "755/755 [==============================] - 5s 7ms/step - loss: 89.5805 - accuracy: 0.7011 - val_loss: 0.6112 - val_accuracy: 0.6996\n",
      "Epoch 42/100\n",
      "755/755 [==============================] - 5s 7ms/step - loss: 0.7139 - accuracy: 0.7012 - val_loss: 0.6112 - val_accuracy: 0.6996\n",
      "Epoch 43/100\n",
      "755/755 [==============================] - 5s 7ms/step - loss: 18.4638 - accuracy: 0.7011 - val_loss: 0.6112 - val_accuracy: 0.6996\n",
      "Epoch 44/100\n",
      "755/755 [==============================] - 5s 7ms/step - loss: 110.4619 - accuracy: 0.7012 - val_loss: 0.6112 - val_accuracy: 0.6996\n",
      "Epoch 45/100\n",
      "755/755 [==============================] - 5s 7ms/step - loss: 37.5916 - accuracy: 0.7011 - val_loss: 0.6112 - val_accuracy: 0.6996\n",
      "Epoch 46/100\n",
      "755/755 [==============================] - 5s 7ms/step - loss: 36.4329 - accuracy: 0.7014 - val_loss: 0.6112 - val_accuracy: 0.6996\n",
      "Epoch 47/100\n",
      "755/755 [==============================] - 6s 8ms/step - loss: 11055.3076 - accuracy: 0.7013 - val_loss: 0.6112 - val_accuracy: 0.6996\n",
      "Epoch 48/100\n",
      "755/755 [==============================] - 6s 8ms/step - loss: 230.3866 - accuracy: 0.7012 - val_loss: 0.6112 - val_accuracy: 0.6996\n",
      "Epoch 49/100\n",
      "755/755 [==============================] - 5s 7ms/step - loss: 60.1816 - accuracy: 0.7012 - val_loss: 0.6112 - val_accuracy: 0.6996\n",
      "Epoch 50/100\n",
      "755/755 [==============================] - 5s 7ms/step - loss: 74.0483 - accuracy: 0.7012 - val_loss: 0.6112 - val_accuracy: 0.6996\n",
      "Epoch 51/100\n",
      "755/755 [==============================] - 5s 7ms/step - loss: 0.6099 - accuracy: 0.7012 - val_loss: 0.6112 - val_accuracy: 0.6996\n",
      "Epoch 52/100\n",
      "755/755 [==============================] - 5s 7ms/step - loss: 12.7264 - accuracy: 0.7011 - val_loss: 0.6113 - val_accuracy: 0.6996\n",
      "Epoch 53/100\n",
      "755/755 [==============================] - 5s 7ms/step - loss: 0.6099 - accuracy: 0.7011 - val_loss: 0.6112 - val_accuracy: 0.6996\n",
      "Epoch 54/100\n",
      "755/755 [==============================] - 5s 7ms/step - loss: 0.6099 - accuracy: 0.7011 - val_loss: 0.6112 - val_accuracy: 0.6996\n",
      "Epoch 55/100\n",
      "755/755 [==============================] - 5s 7ms/step - loss: 0.6099 - accuracy: 0.7011 - val_loss: 0.6112 - val_accuracy: 0.6996\n",
      "Epoch 56/100\n",
      "755/755 [==============================] - 5s 7ms/step - loss: 0.6100 - accuracy: 0.7011 - val_loss: 0.6112 - val_accuracy: 0.6996\n",
      "Epoch 57/100\n",
      "755/755 [==============================] - 5s 7ms/step - loss: 216.3424 - accuracy: 0.7011 - val_loss: 0.6113 - val_accuracy: 0.6996\n",
      "Epoch 58/100\n",
      "755/755 [==============================] - 6s 8ms/step - loss: 43.7090 - accuracy: 0.7011 - val_loss: 0.6112 - val_accuracy: 0.6996\n",
      "Epoch 59/100\n",
      "755/755 [==============================] - 6s 7ms/step - loss: 0.6577 - accuracy: 0.7011 - val_loss: 0.6112 - val_accuracy: 0.6996\n",
      "Epoch 60/100\n",
      "755/755 [==============================] - 5s 7ms/step - loss: 0.6099 - accuracy: 0.7011 - val_loss: 0.6112 - val_accuracy: 0.6996\n",
      "Epoch 61/100\n",
      "755/755 [==============================] - 5s 7ms/step - loss: 0.6099 - accuracy: 0.7011 - val_loss: 0.6112 - val_accuracy: 0.6996\n",
      "Epoch 62/100\n",
      "755/755 [==============================] - 5s 7ms/step - loss: 0.6099 - accuracy: 0.7011 - val_loss: 0.6112 - val_accuracy: 0.6996\n",
      "Epoch 63/100\n",
      "755/755 [==============================] - 5s 7ms/step - loss: 0.6099 - accuracy: 0.7011 - val_loss: 0.6112 - val_accuracy: 0.6996\n",
      "Epoch 64/100\n",
      "755/755 [==============================] - 5s 7ms/step - loss: 0.6099 - accuracy: 0.7011 - val_loss: 0.6112 - val_accuracy: 0.6996\n",
      "Epoch 65/100\n",
      "755/755 [==============================] - 6s 7ms/step - loss: 0.6099 - accuracy: 0.7011 - val_loss: 0.6113 - val_accuracy: 0.6996\n",
      "Epoch 66/100\n",
      "755/755 [==============================] - 5s 7ms/step - loss: 0.6099 - accuracy: 0.7011 - val_loss: 0.6112 - val_accuracy: 0.6996\n",
      "Epoch 67/100\n",
      "755/755 [==============================] - 5s 7ms/step - loss: 0.6099 - accuracy: 0.7011 - val_loss: 0.6113 - val_accuracy: 0.6996\n",
      "Epoch 68/100\n",
      "755/755 [==============================] - 5s 7ms/step - loss: 0.6099 - accuracy: 0.7011 - val_loss: 0.6112 - val_accuracy: 0.6996\n",
      "Epoch 69/100\n",
      "755/755 [==============================] - 6s 8ms/step - loss: 0.6099 - accuracy: 0.7011 - val_loss: 0.6112 - val_accuracy: 0.6996\n",
      "Epoch 70/100\n",
      "755/755 [==============================] - 5s 7ms/step - loss: 0.6099 - accuracy: 0.7011 - val_loss: 0.6112 - val_accuracy: 0.6996\n",
      "Epoch 71/100\n",
      "755/755 [==============================] - 5s 7ms/step - loss: 0.6099 - accuracy: 0.7011 - val_loss: 0.6112 - val_accuracy: 0.6996\n",
      "Epoch 72/100\n",
      "755/755 [==============================] - 5s 7ms/step - loss: 0.6099 - accuracy: 0.7012 - val_loss: 0.6112 - val_accuracy: 0.6996\n",
      "Epoch 73/100\n",
      "755/755 [==============================] - 5s 7ms/step - loss: 71.8468 - accuracy: 0.7011 - val_loss: 0.6112 - val_accuracy: 0.6996\n",
      "Epoch 74/100\n",
      "755/755 [==============================] - 6s 7ms/step - loss: 0.6100 - accuracy: 0.7011 - val_loss: 0.6112 - val_accuracy: 0.6996\n",
      "Epoch 75/100\n",
      "755/755 [==============================] - 5s 7ms/step - loss: 6.0013 - accuracy: 0.7011 - val_loss: 0.6112 - val_accuracy: 0.6996\n",
      "Epoch 76/100\n",
      "755/755 [==============================] - 5s 7ms/step - loss: 0.6099 - accuracy: 0.7011 - val_loss: 0.6112 - val_accuracy: 0.6996\n",
      "Epoch 77/100\n",
      "755/755 [==============================] - 5s 7ms/step - loss: 0.6099 - accuracy: 0.7011 - val_loss: 0.6112 - val_accuracy: 0.6996\n",
      "Epoch 78/100\n",
      "755/755 [==============================] - 5s 7ms/step - loss: 100.9493 - accuracy: 0.7011 - val_loss: 0.6112 - val_accuracy: 0.6996\n",
      "Epoch 79/100\n",
      "755/755 [==============================] - 5s 7ms/step - loss: 0.6100 - accuracy: 0.7011 - val_loss: 0.6112 - val_accuracy: 0.6996\n",
      "Epoch 80/100\n",
      "755/755 [==============================] - 6s 8ms/step - loss: 0.6099 - accuracy: 0.7011 - val_loss: 0.6112 - val_accuracy: 0.6996\n",
      "Epoch 81/100\n",
      "755/755 [==============================] - 6s 7ms/step - loss: 0.6100 - accuracy: 0.7011 - val_loss: 0.6112 - val_accuracy: 0.6996\n",
      "Epoch 82/100\n",
      "755/755 [==============================] - 5s 7ms/step - loss: 0.6099 - accuracy: 0.7011 - val_loss: 0.6112 - val_accuracy: 0.6996\n",
      "Epoch 83/100\n",
      "755/755 [==============================] - 5s 7ms/step - loss: 0.6100 - accuracy: 0.7011 - val_loss: 0.6112 - val_accuracy: 0.6996\n",
      "Epoch 84/100\n",
      "755/755 [==============================] - 5s 7ms/step - loss: 0.6099 - accuracy: 0.7011 - val_loss: 0.6112 - val_accuracy: 0.6996\n",
      "Epoch 85/100\n",
      "755/755 [==============================] - 5s 7ms/step - loss: 0.6100 - accuracy: 0.7011 - val_loss: 0.6112 - val_accuracy: 0.6996\n",
      "Epoch 86/100\n",
      "755/755 [==============================] - 5s 7ms/step - loss: 0.6100 - accuracy: 0.7011 - val_loss: 0.6112 - val_accuracy: 0.6996\n",
      "Epoch 87/100\n",
      "755/755 [==============================] - 5s 7ms/step - loss: 0.6099 - accuracy: 0.7011 - val_loss: 0.6112 - val_accuracy: 0.6996\n",
      "Epoch 88/100\n",
      "755/755 [==============================] - 5s 7ms/step - loss: 0.6099 - accuracy: 0.7011 - val_loss: 0.6112 - val_accuracy: 0.6996\n",
      "Epoch 89/100\n",
      "755/755 [==============================] - 5s 7ms/step - loss: 0.6100 - accuracy: 0.7011 - val_loss: 0.6112 - val_accuracy: 0.6996\n",
      "Epoch 90/100\n",
      "755/755 [==============================] - 5s 7ms/step - loss: 0.6099 - accuracy: 0.7011 - val_loss: 0.6112 - val_accuracy: 0.6996\n",
      "Epoch 91/100\n",
      "755/755 [==============================] - 6s 7ms/step - loss: 8.0275 - accuracy: 0.7011 - val_loss: 0.6112 - val_accuracy: 0.6996\n",
      "Epoch 92/100\n",
      "755/755 [==============================] - 5s 7ms/step - loss: 0.6099 - accuracy: 0.7011 - val_loss: 0.6113 - val_accuracy: 0.6996\n",
      "Epoch 93/100\n",
      "755/755 [==============================] - 5s 7ms/step - loss: 0.6100 - accuracy: 0.7011 - val_loss: 0.6112 - val_accuracy: 0.6996\n",
      "Epoch 94/100\n",
      "755/755 [==============================] - 5s 7ms/step - loss: 31.9350 - accuracy: 0.7011 - val_loss: 0.6112 - val_accuracy: 0.6996\n",
      "Epoch 95/100\n",
      "755/755 [==============================] - 6s 8ms/step - loss: 77.3816 - accuracy: 0.7011 - val_loss: 0.6112 - val_accuracy: 0.6996\n",
      "Epoch 96/100\n",
      "755/755 [==============================] - 6s 7ms/step - loss: 0.6100 - accuracy: 0.7011 - val_loss: 0.6112 - val_accuracy: 0.6996\n",
      "Epoch 97/100\n",
      "755/755 [==============================] - 5s 7ms/step - loss: 0.6099 - accuracy: 0.7011 - val_loss: 0.6113 - val_accuracy: 0.6996\n",
      "Epoch 98/100\n",
      "755/755 [==============================] - 6s 7ms/step - loss: 0.6099 - accuracy: 0.7011 - val_loss: 0.6112 - val_accuracy: 0.6996\n",
      "Epoch 99/100\n",
      "755/755 [==============================] - 6s 8ms/step - loss: 0.6100 - accuracy: 0.7011 - val_loss: 0.6112 - val_accuracy: 0.6996\n",
      "Epoch 100/100\n",
      "755/755 [==============================] - 5s 7ms/step - loss: 0.6099 - accuracy: 0.7011 - val_loss: 0.6112 - val_accuracy: 0.6996\n"
     ]
    }
   ],
   "source": [
    "import tensorflow as tf\n",
    "from tensorflow import keras\n",
    "model=keras.models.Sequential([\n",
    "    keras.layers.Dense(512, activation='relu', input_shape=(X_train.shape[1],)),\n",
    "    keras.layers.Dropout(0.2),\n",
    "    keras.layers.Dense(256, activation='relu'),\n",
    "    keras.layers.Dropout(0.2),\n",
    "    keras.layers.Dense(128, activation='relu'), \n",
    "    keras.layers.Dropout (0.2),\n",
    "    keras.layers.Dense(64, activation='relu'),\n",
    "    keras.layers.Dropout(0.2),\n",
    "    keras.layers.Dense(10, activation='softmax'),])\n",
    "print(model.summary())\n",
    "model_history=trainModel(model=model, epochs=100, optimizer='adam')"
   ]
  },
  {
   "cell_type": "code",
   "execution_count": 8,
   "metadata": {},
   "outputs": [
    {
     "name": "stdout",
     "output_type": "stream",
     "text": [
      "324/324 [==============================] - 1s 2ms/step - loss: 0.6112 - accuracy: 0.6996\n",
      "The test Loss is : 0.6111814975738525\n",
      "\n",
      "The Best test Accuracy is  69.96257305145264\n"
     ]
    }
   ],
   "source": [
    "test_loss, test_acc=model.evaluate(X_test, y_test, batch_size=128) \n",
    "print(\"The test Loss is :\", test_loss) \n",
    "print(\"\\nThe Best test Accuracy is \", test_acc*100)"
   ]
  },
  {
   "cell_type": "code",
   "execution_count": 9,
   "metadata": {},
   "outputs": [
    {
     "name": "stdout",
     "output_type": "stream",
     "text": [
      "Validation Accuracy 0.9613425135612488\n"
     ]
    },
    {
     "data": {
      "image/png": "[encoded data removed]",
      "text/plain": [
       "<Figure size 500x500 with 1 Axes>"
      ]
     },
     "metadata": {},
     "output_type": "display_data"
    }
   ],
   "source": [
    "plotValidate(model_history)"
   ]
  },
  {
   "cell_type": "markdown",
   "metadata": {},
   "source": [
    "### Random Forest Classifier"
   ]
  },
  {
   "cell_type": "code",
   "execution_count": 10,
   "metadata": {
    "colab": {
     "base_uri": "https://localhost:8080/",
     "height": 34
    },
    "id": "k4TMmJpLYdyu",
    "outputId": "0b78e97d-01a5-4f15-e5a8-c200a0b076be"
   },
   "outputs": [
    {
     "data": {
      "text/plain": [
       "RandomForestClassifier(oob_score=True)"
      ]
     },
     "execution_count": 10,
     "metadata": {},
     "output_type": "execute_result"
    }
   ],
   "source": [
    "forest = ek.RandomForestClassifier(n_estimators=100, oob_score=True,)\n",
    "forest.fit(X_train,y_train)"
   ]
  },
  {
   "cell_type": "code",
   "execution_count": 11,
   "metadata": {
    "colab": {
     "base_uri": "https://localhost:8080/",
     "height": 34
    },
    "id": "6KwnwOo1ZpSc",
    "outputId": "7c527ddd-4de7-4f5d-f93c-b01f35be6d87"
   },
   "outputs": [
    {
     "name": "stdout",
     "output_type": "stream",
     "text": [
      "Random Forest Accuracy: 0.9952191235059761\n"
     ]
    }
   ],
   "source": [
    "score = forest.score(X_test,y_test)\n",
    "print(\"Random Forest Accuracy:\", score)"
   ]
  },
  {
   "cell_type": "code",
   "execution_count": 12,
   "metadata": {
    "colab": {
     "base_uri": "https://localhost:8080/",
     "height": 51
    },
    "id": "yrOrN_pAiaRU",
    "outputId": "75b5f069-64b5-433e-a329-4a91d887616d"
   },
   "outputs": [
    {
     "name": "stdout",
     "output_type": "stream",
     "text": [
      "False positive rate: 0.11579339150572764%\n",
      "False negative rate: 0.21537642475134913%\n"
     ]
    }
   ],
   "source": [
    "predicted = forest.predict(X)\n",
    "matrix = confusion_matrix(y, predicted)\n",
    "false_positive = (matrix[0][1] / float(sum(matrix[0])))*100\n",
    "false_negative = (matrix[1][0] / float(sum(matrix[1])))*100\n",
    "print(\"False positive rate: \" + str(false_positive) + \"%\")\n",
    "print(\"False negative rate: \" + str(false_negative) + \"%\")"
   ]
  },
  {
   "cell_type": "code",
   "execution_count": 19,
   "metadata": {},
   "outputs": [
    {
     "data": {
      "text/plain": [
       "<AxesSubplot:>"
      ]
     },
     "execution_count": 19,
     "metadata": {},
     "output_type": "execute_result"
    },
    {
     "data": {
      "image/png": "[encoded data removed]",
      "text/plain": [
       "<Figure size 640x480 with 2 Axes>"
      ]
     },
     "metadata": {},
     "output_type": "display_data"
    }
   ],
   "source": [
    "import seaborn as sns\n",
    "sns.heatmap(matrix, annot=True)"
   ]
  },
  {
   "cell_type": "code",
   "execution_count": 22,
   "metadata": {},
   "outputs": [
    {
     "data": {
      "image/png": "[encoded data removed]",
      "text/plain": [
       "<Figure size 500x500 with 1 Axes>"
      ]
     },
     "metadata": {},
     "output_type": "display_data"
    }
   ],
   "source": [
    "a = 0.9613425135612488\n",
    "b = 0.9952191235059761\n",
    "\n",
    "data2 = {'Neural Network':a,'Random Forest':b}\n",
    "column = list(data2.keys())\n",
    "rows = list(data2.values())\n",
    "\n",
    "plt.style.use('dark_background')\n",
    "fig = plt.figure(figsize = (5,5))\n",
    "plt.bar(column,rows, color=['green', 'red'])\n",
    " \n",
    "plt.xlabel(\"model\",fontsize=10)\n",
    "plt.ylabel(\"Accuracy\",fontsize=10)\n",
    "plt.title(\"Neural Net Vs Random Forest\",fontsize=15)\n",
    "plt.show()"
   ]
  },
  {
   "cell_type": "markdown",
   "metadata": {},
   "source": [
    "### Test File"
   ]
  },
  {
   "cell_type": "code",
   "execution_count": 13,
   "metadata": {},
   "outputs": [],
   "source": [
    "import pefile\n",
    "import os\n",
    "import array\n",
    "import math\n",
    "import pickle\n",
    "import joblib\n",
    "import sys\n",
    "import argparse"
   ]
  },
  {
   "cell_type": "code",
   "execution_count": 14,
   "metadata": {},
   "outputs": [],
   "source": [
    "def getent(data):\n",
    "    if len(data) == 0:\n",
    "        return 0.0\n",
    "    freq = array.array('L', [0] * 256)\n",
    "    for x in data:\n",
    "        freq[x if isinstance(x, int) else ord(x)] += 1\n",
    "\n",
    "    entropy = 0\n",
    "    for x in freq:\n",
    "        if x:\n",
    "            p_x = float(x) / len(data)\n",
    "            entropy -= p_x * math.log(p_x, 2)\n",
    "\n",
    "    return entropy\n",
    "p11='DIRECTORY_ENTRY_RESOURCE'\n",
    "p12='directory'\n",
    "\n",
    "def getres(pe):\n",
    "    resources = []\n",
    "    if hasattr(pe, p11):\n",
    "        try:\n",
    "            for resource_type in pe.DIRECTORY_ENTRY_RESOURCE.entries:\n",
    "                if hasattr(resource_type, p12):\n",
    "                    for resource_id in resource_type.directory.entries:\n",
    "                        if hasattr(resource_id, p12):\n",
    "                            for resource_lang in resource_id.directory.entries:\n",
    "                                data = pe.get_data(resource_lang.data.struct.OffsetToData, resource_lang.data.struct.Size)\n",
    "                                size = resource_lang.data.struct.Size\n",
    "                                entropy = getent(data)\n",
    "\n",
    "                                resources.append([entropy, size])\n",
    "        except Exception as e:\n",
    "            return resources\n",
    "    return resources\n",
    "\n",
    "p1='StringFileInfo'\n",
    "p2='VarFileInfo'\n",
    "p3='VS_FIXEDFILEINFO'\n",
    "p4='flags'\n",
    "p5='os'\n",
    "p6='type'\n",
    "p7='file_version'\n",
    "p8='product_version'\n",
    "p9='signature'\n",
    "p10='struct_version'\n",
    "def getver_details(pe):\n",
    "    extracted_feature = {}\n",
    "    for fileinfo in pe.FileInfo:\n",
    "        if fileinfo.Key == p1:\n",
    "            for st in fileinfo.StringTable:\n",
    "                for entry in st.entries.items():\n",
    "                    extracted_feature[entry[0]] = entry[1]\n",
    "        if fileinfo.Key == p2:\n",
    "            for var in fileinfo.Var:\n",
    "                extracted_feature[var.entry.items()[0][0]] = var.entry.items()[0][1]\n",
    "    if hasattr(pe,p3):\n",
    "        extracted_feature[p4] = pe.VS_FIXEDFILEINFO.FileFlags\n",
    "        extracted_feature[p5] = pe.VS_FIXEDFILEINFO.FileOS\n",
    "        extracted_feature[p6] = pe.VS_FIXEDFILEINFO.FileType\n",
    "        extracted_feature[p7] = pe.VS_FIXEDFILEINFO.FileVersionLS\n",
    "        extracted_feature[p8] = pe.VS_FIXEDFILEINFO.ProductVersionLS\n",
    "        extracted_feature[p9] = pe.VS_FIXEDFILEINFO.Signature\n",
    "        extracted_feature[p10] = pe.VS_FIXEDFILEINFO.StrucVersion\n",
    "    return extracted_feature"
   ]
  },
  {
   "cell_type": "code",
   "execution_count": 16,
   "metadata": {},
   "outputs": [],
   "source": [
    "features=list(data.columns)"
   ]
  },
  {
   "cell_type": "code",
   "execution_count": 17,
   "metadata": {},
   "outputs": [
    {
     "name": "stdout",
     "output_type": "stream",
     "text": [
      "The file is malicious\n"
     ]
    }
   ],
   "source": [
    "mypath = \"main.exe\"\n",
    "\n",
    "extracted_feature = {}\n",
    "pe = pefile.PE(mypath)\n",
    "extracted_feature[features[2]] = pe.FILE_HEADER.Machine\n",
    "extracted_feature[features[3]] = pe.FILE_HEADER.SizeOfOptionalHeader\n",
    "extracted_feature[features[4]] = pe.FILE_HEADER.Characteristics\n",
    "extracted_feature[features[5]] = pe.OPTIONAL_HEADER.MajorLinkerVersion\n",
    "extracted_feature[features[6]] = pe.OPTIONAL_HEADER.MinorLinkerVersion\n",
    "extracted_feature[features[7]] = pe.OPTIONAL_HEADER.SizeOfCode\n",
    "extracted_feature[features[8]] = pe.OPTIONAL_HEADER.SizeOfInitializedData\n",
    "extracted_feature[features[9]] = pe.OPTIONAL_HEADER.SizeOfUninitializedData\n",
    "extracted_feature[features[10]] = pe.OPTIONAL_HEADER.AddressOfEntryPoint\n",
    "extracted_feature[features[11]] = pe.OPTIONAL_HEADER.BaseOfCode\n",
    "try:\n",
    "    extracted_feature[features[12]] = pe.OPTIONAL_HEADER.BaseOfData\n",
    "except AttributeError:\n",
    "    extracted_feature[features[12]] = 0\n",
    "extracted_feature[features[13]] = pe.OPTIONAL_HEADER.ImageBase\n",
    "extracted_feature[features[14]] = pe.OPTIONAL_HEADER.SectionAlignment\n",
    "extracted_feature[features[15]] = pe.OPTIONAL_HEADER.FileAlignment\n",
    "extracted_feature[features[16]] = pe.OPTIONAL_HEADER.MajorOperatingSystemVersion\n",
    "extracted_feature[features[17]] = pe.OPTIONAL_HEADER.MinorOperatingSystemVersion\n",
    "extracted_feature[features[18]] = pe.OPTIONAL_HEADER.MajorImageVersion\n",
    "extracted_feature[features[19]] = pe.OPTIONAL_HEADER.MinorImageVersion\n",
    "extracted_feature[features[20]] = pe.OPTIONAL_HEADER.MajorSubsystemVersion\n",
    "extracted_feature[features[21]] = pe.OPTIONAL_HEADER.MinorSubsystemVersion\n",
    "extracted_feature[features[22]] = pe.OPTIONAL_HEADER.SizeOfImage\n",
    "extracted_feature[features[23]] = pe.OPTIONAL_HEADER.SizeOfHeaders\n",
    "extracted_feature[features[24]] = pe.OPTIONAL_HEADER.CheckSum\n",
    "extracted_feature[features[25]] = pe.OPTIONAL_HEADER.Subsystem\n",
    "extracted_feature[features[26]] = pe.OPTIONAL_HEADER.DllCharacteristics\n",
    "extracted_feature[features[27]] = pe.OPTIONAL_HEADER.SizeOfStackReserve\n",
    "extracted_feature[features[28]] = pe.OPTIONAL_HEADER.SizeOfStackCommit\n",
    "extracted_feature[features[29]] = pe.OPTIONAL_HEADER.SizeOfHeapReserve\n",
    "extracted_feature[features[30]] = pe.OPTIONAL_HEADER.SizeOfHeapCommit\n",
    "extracted_feature[features[31]] = pe.OPTIONAL_HEADER.LoaderFlags\n",
    "extracted_feature[features[32]] = pe.OPTIONAL_HEADER.NumberOfRvaAndSizes\n",
    "extracted_feature[features[33]] = len(pe.sections)\n",
    "entropy = list(map(lambda x: x.get_entropy(), pe.sections))\n",
    "extracted_feature[features[34]] = sum(entropy) / float(len(entropy))\n",
    "extracted_feature[features[35]] = min(entropy)\n",
    "extracted_feature[features[36]] = max(entropy)\n",
    "raw_sizes = list(map(lambda x: x.SizeOfRawData, pe.sections))\n",
    "extracted_feature[features[37]] = sum(raw_sizes) / float(len(raw_sizes))\n",
    "extracted_feature[features[38]] = min(raw_sizes)\n",
    "extracted_feature[features[39]] = max(raw_sizes)\n",
    "virtual_sizes = list(map(lambda x: x.Misc_VirtualSize, pe.sections))\n",
    "extracted_feature[features[40]] = sum(virtual_sizes) / float(len(virtual_sizes))\n",
    "extracted_feature[features[41]] = min(virtual_sizes)\n",
    "extracted_feature[features[42]] = max(virtual_sizes)\n",
    "try:\n",
    "    extracted_feature[features[43]] = len(pe.DIRECTORY_ENTRY_IMPORT)\n",
    "    imports = sum([x.imports for x in pe.DIRECTORY_ENTRY_IMPORT], [])\n",
    "    extracted_feature[features[44]] = len(imports)\n",
    "    extracted_feature[features[45]] = len(list(filter(lambda x: x.name is None, imports)))\n",
    "except AttributeError:\n",
    "    extracted_feature[features[43]] = 0\n",
    "    extracted_feature[features[44]] = 0\n",
    "    extracted_feature[features[45]] = 0\n",
    "try:\n",
    "    extracted_feature[features[46]] = len(pe.DIRECTORY_ENTRY_EXPORT.symbols)\n",
    "except AttributeError:\n",
    "    extracted_feature[features[46]] = 0\n",
    "resources = getres(pe)\n",
    "extracted_feature[features[47]] = len(resources)\n",
    "if len(resources) > 0:\n",
    "    entropy = list(map(lambda x: x[0], resources))\n",
    "    extracted_feature[features[48]] = sum(entropy) / float(len(entropy))\n",
    "    extracted_feature[features[49]] = min(entropy)\n",
    "    extracted_feature[features[50]] = max(entropy)\n",
    "    sizes = list(map(lambda x: x[1], resources))\n",
    "    extracted_feature[features[51]] = sum(sizes) / float(len(sizes))\n",
    "    extracted_feature[features[52]] = min(sizes)\n",
    "    extracted_feature[features[53]] = max(sizes)\n",
    "else:\n",
    "    extracted_feature[features[48]] = 0\n",
    "    extracted_feature[features[49]] = 0\n",
    "    extracted_feature[features[50]] = 0\n",
    "    extracted_feature[features[51]] = 0\n",
    "    extracted_feature[features[52]] = 0\n",
    "    extracted_feature[features[53]] = 0\n",
    "    extracted_feature[features[54]] = 0\n",
    "try:\n",
    "    extracted_feature[features[54]] = pe.DIRECTORY_ENTRY_LOAD_CONFIG.struct.Size\n",
    "except AttributeError:\n",
    "    extracted_feature[features[54]] = 0\n",
    "try:\n",
    "    version_infos = getver_details(pe)\n",
    "    extracted_feature[features[55]] = len(version_infos.keys())\n",
    "except AttributeError:\n",
    "    extracted_feature[features[55]] = 0\n",
    "\n",
    "\n",
    "pe_features = list(extracted_feature[x] for x in extracted_feature.keys())\n",
    "ext = forest.predict([pe_features])[0]\n",
    "print('The file is %s' % (['legitimate','malicious'][ext]))"
   ]
  },
  {
   "cell_type": "code",
   "execution_count": null,
   "metadata": {},
   "outputs": [],
   "source": []
  }
 ],
 "metadata": {
  "accelerator": "GPU",
  "colab": {
   "name": "Malware-Detection.ipynb",
   "provenance": [],
   "toc_visible": true
  },
  "kernelspec": {
   "display_name": "Python 3.9.12 ('base')",
   "language": "python",
   "name": "python3"
  },
  "language_info": {
   "codemirror_mode": {
    "name": "ipython",
    "version": 3
   },
   "file_extension": ".py",
   "mimetype": "text/x-python",
   "name": "python",
   "nbconvert_exporter": "python",
   "pygments_lexer": "ipython3",
   "version": "3.9.12"
  },
  "vscode": {
   "interpreter": {
    "hash": "c4c993f71a3950e9426df20f50ef643834e332e6e28c0b5850ddc4849bf4d1d9"
   }
  }
 },
 "nbformat": 4,
 "nbformat_minor": 1
}
